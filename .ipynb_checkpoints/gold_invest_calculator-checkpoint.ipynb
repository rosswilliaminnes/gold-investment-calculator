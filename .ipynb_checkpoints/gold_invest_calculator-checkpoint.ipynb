{
 "cells": [
  {
   "cell_type": "code",
   "execution_count": 1,
   "id": "4360e2a0-a07a-46ff-b990-f6310d880cdd",
   "metadata": {},
   "outputs": [],
   "source": [
    "import pandas as pd\n",
    "import yfinance as yf\n",
    "import matplotlib.pyplot as plt\n",
    "import datetime as dt\n",
    "import numpy as np"
   ]
  },
  {
   "cell_type": "code",
   "execution_count": 2,
   "id": "47ec858f-d00b-4b18-a4bc-18da4aeb3e5e",
   "metadata": {},
   "outputs": [
    {
     "name": "stdout",
     "output_type": "stream",
     "text": [
      "[*********************100%***********************]  1 of 1 completed\n"
     ]
    }
   ],
   "source": [
    "gold = yf.download('GC=F')"
   ]
  },
  {
   "cell_type": "code",
   "execution_count": 3,
   "id": "4d17da2c-d979-4a50-95ff-5b58ca958862",
   "metadata": {},
   "outputs": [
    {
     "data": {
      "text/html": [
       "<div>\n",
       "<style scoped>\n",
       "    .dataframe tbody tr th:only-of-type {\n",
       "        vertical-align: middle;\n",
       "    }\n",
       "\n",
       "    .dataframe tbody tr th {\n",
       "        vertical-align: top;\n",
       "    }\n",
       "\n",
       "    .dataframe thead th {\n",
       "        text-align: right;\n",
       "    }\n",
       "</style>\n",
       "<table border=\"1\" class=\"dataframe\">\n",
       "  <thead>\n",
       "    <tr style=\"text-align: right;\">\n",
       "      <th></th>\n",
       "      <th>Open</th>\n",
       "      <th>High</th>\n",
       "      <th>Low</th>\n",
       "      <th>Close</th>\n",
       "      <th>Adj Close</th>\n",
       "      <th>Volume</th>\n",
       "    </tr>\n",
       "    <tr>\n",
       "      <th>Date</th>\n",
       "      <th></th>\n",
       "      <th></th>\n",
       "      <th></th>\n",
       "      <th></th>\n",
       "      <th></th>\n",
       "      <th></th>\n",
       "    </tr>\n",
       "  </thead>\n",
       "  <tbody>\n",
       "    <tr>\n",
       "      <th>2022-09-06</th>\n",
       "      <td>1709.699951</td>\n",
       "      <td>1717.400024</td>\n",
       "      <td>1699.699951</td>\n",
       "      <td>1700.400024</td>\n",
       "      <td>1700.400024</td>\n",
       "      <td>697</td>\n",
       "    </tr>\n",
       "    <tr>\n",
       "      <th>2022-09-07</th>\n",
       "      <td>1694.800049</td>\n",
       "      <td>1715.300049</td>\n",
       "      <td>1694.699951</td>\n",
       "      <td>1715.300049</td>\n",
       "      <td>1715.300049</td>\n",
       "      <td>651</td>\n",
       "    </tr>\n",
       "    <tr>\n",
       "      <th>2022-09-08</th>\n",
       "      <td>1718.199951</td>\n",
       "      <td>1718.199951</td>\n",
       "      <td>1705.300049</td>\n",
       "      <td>1708.000000</td>\n",
       "      <td>1708.000000</td>\n",
       "      <td>1193</td>\n",
       "    </tr>\n",
       "    <tr>\n",
       "      <th>2022-09-09</th>\n",
       "      <td>1719.199951</td>\n",
       "      <td>1720.000000</td>\n",
       "      <td>1712.800049</td>\n",
       "      <td>1716.199951</td>\n",
       "      <td>1716.199951</td>\n",
       "      <td>1193</td>\n",
       "    </tr>\n",
       "    <tr>\n",
       "      <th>2022-09-12</th>\n",
       "      <td>1728.400024</td>\n",
       "      <td>1746.400024</td>\n",
       "      <td>1722.300049</td>\n",
       "      <td>1735.800049</td>\n",
       "      <td>1735.800049</td>\n",
       "      <td>150470</td>\n",
       "    </tr>\n",
       "  </tbody>\n",
       "</table>\n",
       "</div>"
      ],
      "text/plain": [
       "                   Open         High          Low        Close    Adj Close  \\\n",
       "Date                                                                          \n",
       "2022-09-06  1709.699951  1717.400024  1699.699951  1700.400024  1700.400024   \n",
       "2022-09-07  1694.800049  1715.300049  1694.699951  1715.300049  1715.300049   \n",
       "2022-09-08  1718.199951  1718.199951  1705.300049  1708.000000  1708.000000   \n",
       "2022-09-09  1719.199951  1720.000000  1712.800049  1716.199951  1716.199951   \n",
       "2022-09-12  1728.400024  1746.400024  1722.300049  1735.800049  1735.800049   \n",
       "\n",
       "            Volume  \n",
       "Date                \n",
       "2022-09-06     697  \n",
       "2022-09-07     651  \n",
       "2022-09-08    1193  \n",
       "2022-09-09    1193  \n",
       "2022-09-12  150470  "
      ]
     },
     "execution_count": 3,
     "metadata": {},
     "output_type": "execute_result"
    }
   ],
   "source": [
    "gold.tail()"
   ]
  },
  {
   "cell_type": "code",
   "execution_count": 4,
   "id": "531a7764-281f-447e-be85-02a49d2abbad",
   "metadata": {},
   "outputs": [
    {
     "data": {
      "text/plain": [
       "[<matplotlib.lines.Line2D at 0x7fb303296ca0>]"
      ]
     },
     "execution_count": 4,
     "metadata": {},
     "output_type": "execute_result"
    },
    {
     "data": {
      "image/png": "[encoded data removed]",
      "text/plain": [
       "<Figure size 432x288 with 1 Axes>"
      ]
     },
     "metadata": {
      "needs_background": "light"
     },
     "output_type": "display_data"
    }
   ],
   "source": [
    "plt.plot(gold.Close)"
   ]
  },
  {
   "cell_type": "code",
   "execution_count": 5,
   "id": "8063585f-933c-4d25-ac92-d5fc3f50e39e",
   "metadata": {},
   "outputs": [],
   "source": [
    "df = gold.copy()"
   ]
  },
  {
   "cell_type": "code",
   "execution_count": 6,
   "id": "619c09e4-b99b-483c-8a48-2cf6e9fc8af5",
   "metadata": {},
   "outputs": [],
   "source": [
    "df = df.reset_index()"
   ]
  },
  {
   "cell_type": "code",
   "execution_count": 7,
   "id": "ad6a3b17-13fd-4b99-af14-1dc845235c6f",
   "metadata": {},
   "outputs": [
    {
     "data": {
      "text/plain": [
       "pandas._libs.tslibs.timestamps.Timestamp"
      ]
     },
     "execution_count": 7,
     "metadata": {},
     "output_type": "execute_result"
    }
   ],
   "source": [
    "type(df['Date'][0])"
   ]
  },
  {
   "cell_type": "code",
   "execution_count": 8,
   "id": "e9700c3c-9350-4df4-a74a-a7560ea9b178",
   "metadata": {},
   "outputs": [
    {
     "data": {
      "text/html": [
       "<div>\n",
       "<style scoped>\n",
       "    .dataframe tbody tr th:only-of-type {\n",
       "        vertical-align: middle;\n",
       "    }\n",
       "\n",
       "    .dataframe tbody tr th {\n",
       "        vertical-align: top;\n",
       "    }\n",
       "\n",
       "    .dataframe thead th {\n",
       "        text-align: right;\n",
       "    }\n",
       "</style>\n",
       "<table border=\"1\" class=\"dataframe\">\n",
       "  <thead>\n",
       "    <tr style=\"text-align: right;\">\n",
       "      <th></th>\n",
       "      <th>Date</th>\n",
       "      <th>Open</th>\n",
       "      <th>High</th>\n",
       "      <th>Low</th>\n",
       "      <th>Close</th>\n",
       "      <th>Adj Close</th>\n",
       "      <th>Volume</th>\n",
       "    </tr>\n",
       "  </thead>\n",
       "  <tbody>\n",
       "    <tr>\n",
       "      <th>0</th>\n",
       "      <td>2000-08-30</td>\n",
       "      <td>273.899994</td>\n",
       "      <td>273.899994</td>\n",
       "      <td>273.899994</td>\n",
       "      <td>273.899994</td>\n",
       "      <td>273.899994</td>\n",
       "      <td>0</td>\n",
       "    </tr>\n",
       "    <tr>\n",
       "      <th>1</th>\n",
       "      <td>2000-08-31</td>\n",
       "      <td>274.799988</td>\n",
       "      <td>278.299988</td>\n",
       "      <td>274.799988</td>\n",
       "      <td>278.299988</td>\n",
       "      <td>278.299988</td>\n",
       "      <td>0</td>\n",
       "    </tr>\n",
       "    <tr>\n",
       "      <th>2</th>\n",
       "      <td>2000-09-01</td>\n",
       "      <td>277.000000</td>\n",
       "      <td>277.000000</td>\n",
       "      <td>277.000000</td>\n",
       "      <td>277.000000</td>\n",
       "      <td>277.000000</td>\n",
       "      <td>0</td>\n",
       "    </tr>\n",
       "    <tr>\n",
       "      <th>3</th>\n",
       "      <td>2000-09-05</td>\n",
       "      <td>275.799988</td>\n",
       "      <td>275.799988</td>\n",
       "      <td>275.799988</td>\n",
       "      <td>275.799988</td>\n",
       "      <td>275.799988</td>\n",
       "      <td>2</td>\n",
       "    </tr>\n",
       "    <tr>\n",
       "      <th>4</th>\n",
       "      <td>2000-09-06</td>\n",
       "      <td>274.200012</td>\n",
       "      <td>274.200012</td>\n",
       "      <td>274.200012</td>\n",
       "      <td>274.200012</td>\n",
       "      <td>274.200012</td>\n",
       "      <td>0</td>\n",
       "    </tr>\n",
       "  </tbody>\n",
       "</table>\n",
       "</div>"
      ],
      "text/plain": [
       "        Date        Open        High         Low       Close   Adj Close  \\\n",
       "0 2000-08-30  273.899994  273.899994  273.899994  273.899994  273.899994   \n",
       "1 2000-08-31  274.799988  278.299988  274.799988  278.299988  278.299988   \n",
       "2 2000-09-01  277.000000  277.000000  277.000000  277.000000  277.000000   \n",
       "3 2000-09-05  275.799988  275.799988  275.799988  275.799988  275.799988   \n",
       "4 2000-09-06  274.200012  274.200012  274.200012  274.200012  274.200012   \n",
       "\n",
       "   Volume  \n",
       "0       0  \n",
       "1       0  \n",
       "2       0  \n",
       "3       2  \n",
       "4       0  "
      ]
     },
     "execution_count": 8,
     "metadata": {},
     "output_type": "execute_result"
    }
   ],
   "source": [
    "df.head()"
   ]
  },
  {
   "cell_type": "code",
   "execution_count": 9,
   "id": "c7af5d5d-52e5-49c0-9994-4d73fc693ed7",
   "metadata": {},
   "outputs": [],
   "source": [
    "df['month'] = df['Date'].dt.to_period('M')"
   ]
  },
  {
   "cell_type": "code",
   "execution_count": 10,
   "id": "b6a99466-ec87-446e-ba16-30a9e910466c",
   "metadata": {},
   "outputs": [
    {
     "data": {
      "text/html": [
       "<div>\n",
       "<style scoped>\n",
       "    .dataframe tbody tr th:only-of-type {\n",
       "        vertical-align: middle;\n",
       "    }\n",
       "\n",
       "    .dataframe tbody tr th {\n",
       "        vertical-align: top;\n",
       "    }\n",
       "\n",
       "    .dataframe thead th {\n",
       "        text-align: right;\n",
       "    }\n",
       "</style>\n",
       "<table border=\"1\" class=\"dataframe\">\n",
       "  <thead>\n",
       "    <tr style=\"text-align: right;\">\n",
       "      <th></th>\n",
       "      <th>Date</th>\n",
       "      <th>Open</th>\n",
       "      <th>High</th>\n",
       "      <th>Low</th>\n",
       "      <th>Close</th>\n",
       "      <th>Adj Close</th>\n",
       "      <th>Volume</th>\n",
       "      <th>month</th>\n",
       "    </tr>\n",
       "  </thead>\n",
       "  <tbody>\n",
       "    <tr>\n",
       "      <th>0</th>\n",
       "      <td>2000-08-30</td>\n",
       "      <td>273.899994</td>\n",
       "      <td>273.899994</td>\n",
       "      <td>273.899994</td>\n",
       "      <td>273.899994</td>\n",
       "      <td>273.899994</td>\n",
       "      <td>0</td>\n",
       "      <td>2000-08</td>\n",
       "    </tr>\n",
       "    <tr>\n",
       "      <th>1</th>\n",
       "      <td>2000-08-31</td>\n",
       "      <td>274.799988</td>\n",
       "      <td>278.299988</td>\n",
       "      <td>274.799988</td>\n",
       "      <td>278.299988</td>\n",
       "      <td>278.299988</td>\n",
       "      <td>0</td>\n",
       "      <td>2000-08</td>\n",
       "    </tr>\n",
       "    <tr>\n",
       "      <th>2</th>\n",
       "      <td>2000-09-01</td>\n",
       "      <td>277.000000</td>\n",
       "      <td>277.000000</td>\n",
       "      <td>277.000000</td>\n",
       "      <td>277.000000</td>\n",
       "      <td>277.000000</td>\n",
       "      <td>0</td>\n",
       "      <td>2000-09</td>\n",
       "    </tr>\n",
       "    <tr>\n",
       "      <th>3</th>\n",
       "      <td>2000-09-05</td>\n",
       "      <td>275.799988</td>\n",
       "      <td>275.799988</td>\n",
       "      <td>275.799988</td>\n",
       "      <td>275.799988</td>\n",
       "      <td>275.799988</td>\n",
       "      <td>2</td>\n",
       "      <td>2000-09</td>\n",
       "    </tr>\n",
       "    <tr>\n",
       "      <th>4</th>\n",
       "      <td>2000-09-06</td>\n",
       "      <td>274.200012</td>\n",
       "      <td>274.200012</td>\n",
       "      <td>274.200012</td>\n",
       "      <td>274.200012</td>\n",
       "      <td>274.200012</td>\n",
       "      <td>0</td>\n",
       "      <td>2000-09</td>\n",
       "    </tr>\n",
       "  </tbody>\n",
       "</table>\n",
       "</div>"
      ],
      "text/plain": [
       "        Date        Open        High         Low       Close   Adj Close  \\\n",
       "0 2000-08-30  273.899994  273.899994  273.899994  273.899994  273.899994   \n",
       "1 2000-08-31  274.799988  278.299988  274.799988  278.299988  278.299988   \n",
       "2 2000-09-01  277.000000  277.000000  277.000000  277.000000  277.000000   \n",
       "3 2000-09-05  275.799988  275.799988  275.799988  275.799988  275.799988   \n",
       "4 2000-09-06  274.200012  274.200012  274.200012  274.200012  274.200012   \n",
       "\n",
       "   Volume    month  \n",
       "0       0  2000-08  \n",
       "1       0  2000-08  \n",
       "2       0  2000-09  \n",
       "3       2  2000-09  \n",
       "4       0  2000-09  "
      ]
     },
     "execution_count": 10,
     "metadata": {},
     "output_type": "execute_result"
    }
   ],
   "source": [
    "df.head()"
   ]
  },
  {
   "cell_type": "code",
   "execution_count": 11,
   "id": "6a6dc944-84a5-4658-86a4-ed7076aa053b",
   "metadata": {},
   "outputs": [
    {
     "data": {
      "text/plain": [
       "<PeriodArray>\n",
       "['2000-08', '2000-09', '2000-10', '2000-11', '2000-12', '2001-01', '2001-02',\n",
       " '2001-03', '2001-04', '2001-05',\n",
       " ...\n",
       " '2021-12', '2022-01', '2022-02', '2022-03', '2022-04', '2022-05', '2022-06',\n",
       " '2022-07', '2022-08', '2022-09']\n",
       "Length: 266, dtype: period[M]"
      ]
     },
     "execution_count": 11,
     "metadata": {},
     "output_type": "execute_result"
    }
   ],
   "source": [
    "df.month.unique()"
   ]
  },
  {
   "cell_type": "code",
   "execution_count": 12,
   "id": "435a3d31-e34a-4a7d-b6b2-0b383f8f8d08",
   "metadata": {},
   "outputs": [],
   "source": [
    "df['day'] = df['Date'].dt.to_period('D')"
   ]
  },
  {
   "cell_type": "code",
   "execution_count": 13,
   "id": "2af23f9e-73a7-427f-b12a-c5d13ffc3e70",
   "metadata": {},
   "outputs": [
    {
     "data": {
      "text/html": [
       "<div>\n",
       "<style scoped>\n",
       "    .dataframe tbody tr th:only-of-type {\n",
       "        vertical-align: middle;\n",
       "    }\n",
       "\n",
       "    .dataframe tbody tr th {\n",
       "        vertical-align: top;\n",
       "    }\n",
       "\n",
       "    .dataframe thead th {\n",
       "        text-align: right;\n",
       "    }\n",
       "</style>\n",
       "<table border=\"1\" class=\"dataframe\">\n",
       "  <thead>\n",
       "    <tr style=\"text-align: right;\">\n",
       "      <th></th>\n",
       "      <th>Date</th>\n",
       "      <th>Open</th>\n",
       "      <th>High</th>\n",
       "      <th>Low</th>\n",
       "      <th>Close</th>\n",
       "      <th>Adj Close</th>\n",
       "      <th>Volume</th>\n",
       "      <th>month</th>\n",
       "      <th>day</th>\n",
       "    </tr>\n",
       "  </thead>\n",
       "  <tbody>\n",
       "    <tr>\n",
       "      <th>0</th>\n",
       "      <td>2000-08-30</td>\n",
       "      <td>273.899994</td>\n",
       "      <td>273.899994</td>\n",
       "      <td>273.899994</td>\n",
       "      <td>273.899994</td>\n",
       "      <td>273.899994</td>\n",
       "      <td>0</td>\n",
       "      <td>2000-08</td>\n",
       "      <td>2000-08-30</td>\n",
       "    </tr>\n",
       "    <tr>\n",
       "      <th>1</th>\n",
       "      <td>2000-08-31</td>\n",
       "      <td>274.799988</td>\n",
       "      <td>278.299988</td>\n",
       "      <td>274.799988</td>\n",
       "      <td>278.299988</td>\n",
       "      <td>278.299988</td>\n",
       "      <td>0</td>\n",
       "      <td>2000-08</td>\n",
       "      <td>2000-08-31</td>\n",
       "    </tr>\n",
       "    <tr>\n",
       "      <th>2</th>\n",
       "      <td>2000-09-01</td>\n",
       "      <td>277.000000</td>\n",
       "      <td>277.000000</td>\n",
       "      <td>277.000000</td>\n",
       "      <td>277.000000</td>\n",
       "      <td>277.000000</td>\n",
       "      <td>0</td>\n",
       "      <td>2000-09</td>\n",
       "      <td>2000-09-01</td>\n",
       "    </tr>\n",
       "    <tr>\n",
       "      <th>3</th>\n",
       "      <td>2000-09-05</td>\n",
       "      <td>275.799988</td>\n",
       "      <td>275.799988</td>\n",
       "      <td>275.799988</td>\n",
       "      <td>275.799988</td>\n",
       "      <td>275.799988</td>\n",
       "      <td>2</td>\n",
       "      <td>2000-09</td>\n",
       "      <td>2000-09-05</td>\n",
       "    </tr>\n",
       "    <tr>\n",
       "      <th>4</th>\n",
       "      <td>2000-09-06</td>\n",
       "      <td>274.200012</td>\n",
       "      <td>274.200012</td>\n",
       "      <td>274.200012</td>\n",
       "      <td>274.200012</td>\n",
       "      <td>274.200012</td>\n",
       "      <td>0</td>\n",
       "      <td>2000-09</td>\n",
       "      <td>2000-09-06</td>\n",
       "    </tr>\n",
       "  </tbody>\n",
       "</table>\n",
       "</div>"
      ],
      "text/plain": [
       "        Date        Open        High         Low       Close   Adj Close  \\\n",
       "0 2000-08-30  273.899994  273.899994  273.899994  273.899994  273.899994   \n",
       "1 2000-08-31  274.799988  278.299988  274.799988  278.299988  278.299988   \n",
       "2 2000-09-01  277.000000  277.000000  277.000000  277.000000  277.000000   \n",
       "3 2000-09-05  275.799988  275.799988  275.799988  275.799988  275.799988   \n",
       "4 2000-09-06  274.200012  274.200012  274.200012  274.200012  274.200012   \n",
       "\n",
       "   Volume    month         day  \n",
       "0       0  2000-08  2000-08-30  \n",
       "1       0  2000-08  2000-08-31  \n",
       "2       0  2000-09  2000-09-01  \n",
       "3       2  2000-09  2000-09-05  \n",
       "4       0  2000-09  2000-09-06  "
      ]
     },
     "execution_count": 13,
     "metadata": {},
     "output_type": "execute_result"
    }
   ],
   "source": [
    "df.head()"
   ]
  },
  {
   "cell_type": "code",
   "execution_count": 14,
   "id": "30f01cca-50c1-49df-85cb-d17498a6cb08",
   "metadata": {},
   "outputs": [],
   "source": [
    "# keys for your dictionary\n",
    "list_of_month_yr = list(df.month.unique())"
   ]
  },
  {
   "cell_type": "code",
   "execution_count": 15,
   "id": "140f4599-bd3d-4bcc-b6c7-ca55afcf4514",
   "metadata": {},
   "outputs": [],
   "source": [
    "list_of_month_yr = [str(i) for i in list_of_month_yr]"
   ]
  },
  {
   "cell_type": "code",
   "execution_count": 16,
   "id": "5fed9f5f-1c58-4dc1-9867-cec2265096e6",
   "metadata": {},
   "outputs": [
    {
     "data": {
      "text/plain": [
       "'2000-08'"
      ]
     },
     "execution_count": 16,
     "metadata": {},
     "output_type": "execute_result"
    }
   ],
   "source": [
    "list_of_month_yr[0]"
   ]
  },
  {
   "cell_type": "code",
   "execution_count": 17,
   "id": "ea28f05e-8c97-4bd4-832f-aa4a2faf3732",
   "metadata": {},
   "outputs": [],
   "source": [
    "test_month = '2000-08'"
   ]
  },
  {
   "cell_type": "code",
   "execution_count": 18,
   "id": "7b6c4883-2daf-419b-b5c9-19383757637f",
   "metadata": {},
   "outputs": [
    {
     "data": {
      "text/html": [
       "<div>\n",
       "<style scoped>\n",
       "    .dataframe tbody tr th:only-of-type {\n",
       "        vertical-align: middle;\n",
       "    }\n",
       "\n",
       "    .dataframe tbody tr th {\n",
       "        vertical-align: top;\n",
       "    }\n",
       "\n",
       "    .dataframe thead th {\n",
       "        text-align: right;\n",
       "    }\n",
       "</style>\n",
       "<table border=\"1\" class=\"dataframe\">\n",
       "  <thead>\n",
       "    <tr style=\"text-align: right;\">\n",
       "      <th></th>\n",
       "      <th>Date</th>\n",
       "      <th>Open</th>\n",
       "      <th>High</th>\n",
       "      <th>Low</th>\n",
       "      <th>Close</th>\n",
       "      <th>Adj Close</th>\n",
       "      <th>Volume</th>\n",
       "      <th>month</th>\n",
       "      <th>day</th>\n",
       "    </tr>\n",
       "  </thead>\n",
       "  <tbody>\n",
       "    <tr>\n",
       "      <th>0</th>\n",
       "      <td>2000-08-30</td>\n",
       "      <td>273.899994</td>\n",
       "      <td>273.899994</td>\n",
       "      <td>273.899994</td>\n",
       "      <td>273.899994</td>\n",
       "      <td>273.899994</td>\n",
       "      <td>0</td>\n",
       "      <td>2000-08</td>\n",
       "      <td>2000-08-30</td>\n",
       "    </tr>\n",
       "    <tr>\n",
       "      <th>1</th>\n",
       "      <td>2000-08-31</td>\n",
       "      <td>274.799988</td>\n",
       "      <td>278.299988</td>\n",
       "      <td>274.799988</td>\n",
       "      <td>278.299988</td>\n",
       "      <td>278.299988</td>\n",
       "      <td>0</td>\n",
       "      <td>2000-08</td>\n",
       "      <td>2000-08-31</td>\n",
       "    </tr>\n",
       "  </tbody>\n",
       "</table>\n",
       "</div>"
      ],
      "text/plain": [
       "        Date        Open        High         Low       Close   Adj Close  \\\n",
       "0 2000-08-30  273.899994  273.899994  273.899994  273.899994  273.899994   \n",
       "1 2000-08-31  274.799988  278.299988  274.799988  278.299988  278.299988   \n",
       "\n",
       "   Volume    month         day  \n",
       "0       0  2000-08  2000-08-30  \n",
       "1       0  2000-08  2000-08-31  "
      ]
     },
     "execution_count": 18,
     "metadata": {},
     "output_type": "execute_result"
    }
   ],
   "source": [
    "df[df['month'] == test_month]"
   ]
  },
  {
   "cell_type": "code",
   "execution_count": 19,
   "id": "d6926119-9606-4ed2-ada6-f743188088eb",
   "metadata": {},
   "outputs": [
    {
     "data": {
      "text/html": [
       "<div>\n",
       "<style scoped>\n",
       "    .dataframe tbody tr th:only-of-type {\n",
       "        vertical-align: middle;\n",
       "    }\n",
       "\n",
       "    .dataframe tbody tr th {\n",
       "        vertical-align: top;\n",
       "    }\n",
       "\n",
       "    .dataframe thead th {\n",
       "        text-align: right;\n",
       "    }\n",
       "</style>\n",
       "<table border=\"1\" class=\"dataframe\">\n",
       "  <thead>\n",
       "    <tr style=\"text-align: right;\">\n",
       "      <th></th>\n",
       "      <th>Date</th>\n",
       "      <th>Open</th>\n",
       "      <th>High</th>\n",
       "      <th>Low</th>\n",
       "      <th>Close</th>\n",
       "      <th>Adj Close</th>\n",
       "      <th>Volume</th>\n",
       "      <th>month</th>\n",
       "      <th>day</th>\n",
       "    </tr>\n",
       "  </thead>\n",
       "  <tbody>\n",
       "    <tr>\n",
       "      <th>0</th>\n",
       "      <td>2000-08-30</td>\n",
       "      <td>273.899994</td>\n",
       "      <td>273.899994</td>\n",
       "      <td>273.899994</td>\n",
       "      <td>273.899994</td>\n",
       "      <td>273.899994</td>\n",
       "      <td>0</td>\n",
       "      <td>2000-08</td>\n",
       "      <td>2000-08-30</td>\n",
       "    </tr>\n",
       "    <tr>\n",
       "      <th>1</th>\n",
       "      <td>2000-08-31</td>\n",
       "      <td>274.799988</td>\n",
       "      <td>278.299988</td>\n",
       "      <td>274.799988</td>\n",
       "      <td>278.299988</td>\n",
       "      <td>278.299988</td>\n",
       "      <td>0</td>\n",
       "      <td>2000-08</td>\n",
       "      <td>2000-08-31</td>\n",
       "    </tr>\n",
       "  </tbody>\n",
       "</table>\n",
       "</div>"
      ],
      "text/plain": [
       "        Date        Open        High         Low       Close   Adj Close  \\\n",
       "0 2000-08-30  273.899994  273.899994  273.899994  273.899994  273.899994   \n",
       "1 2000-08-31  274.799988  278.299988  274.799988  278.299988  278.299988   \n",
       "\n",
       "   Volume    month         day  \n",
       "0       0  2000-08  2000-08-30  \n",
       "1       0  2000-08  2000-08-31  "
      ]
     },
     "execution_count": 19,
     "metadata": {},
     "output_type": "execute_result"
    }
   ],
   "source": [
    "df[df['month'] == list_of_month_yr[0]]"
   ]
  },
  {
   "cell_type": "code",
   "execution_count": 20,
   "id": "7e7e43b2-a316-4b57-aa44-f3e97ac53275",
   "metadata": {},
   "outputs": [],
   "source": [
    "earliest_day_dict = {}\n",
    "\n",
    "for key in list_of_month_yr:\n",
    "    earliest_day_dict[key] = 0"
   ]
  },
  {
   "cell_type": "code",
   "execution_count": 21,
   "id": "82e8ecb3-8c4a-4205-b782-c8ff8f7c95a9",
   "metadata": {},
   "outputs": [
    {
     "data": {
      "text/plain": [
       "0"
      ]
     },
     "execution_count": 21,
     "metadata": {},
     "output_type": "execute_result"
    }
   ],
   "source": [
    "earliest_day_dict['2000-08']"
   ]
  },
  {
   "cell_type": "code",
   "execution_count": 22,
   "id": "0af7870a-ed26-4504-8eba-8fcf42d8095d",
   "metadata": {},
   "outputs": [
    {
     "data": {
      "text/plain": [
       "Period('2000-08-30', 'D')"
      ]
     },
     "execution_count": 22,
     "metadata": {},
     "output_type": "execute_result"
    }
   ],
   "source": [
    "min(df[df['month'] == list_of_month_yr[0]].day)"
   ]
  },
  {
   "cell_type": "code",
   "execution_count": 23,
   "id": "57e5b933-1d0a-43bb-86b3-1568796968f5",
   "metadata": {},
   "outputs": [],
   "source": [
    "# so combining the above, we will loop through the df by 'year-month' string\n",
    "# we will then select the min to select the first available date in that month\n",
    "# that value say the close price will selected as the invested price for that month\n",
    "# which will go in the calculator\n",
    "\n",
    "for key,val in earliest_day_dict.items():\n",
    "    earliest_day_dict[key] = min(df[df['month'] == key].day)"
   ]
  },
  {
   "cell_type": "code",
   "execution_count": 24,
   "id": "4a015c88-2fb6-4a7a-abf3-44801b87a648",
   "metadata": {},
   "outputs": [
    {
     "data": {
      "text/plain": [
       "Period('2000-08-30', 'D')"
      ]
     },
     "execution_count": 24,
     "metadata": {},
     "output_type": "execute_result"
    }
   ],
   "source": [
    "earliest_day_dict['2000-08']"
   ]
  },
  {
   "cell_type": "code",
   "execution_count": 25,
   "id": "19b236da-44c7-45bd-97c9-752a96f35b0c",
   "metadata": {},
   "outputs": [],
   "source": [
    "test_month2 = '2000-12'"
   ]
  },
  {
   "cell_type": "code",
   "execution_count": 26,
   "id": "7b6c52b2-8b80-4fe1-b71c-bb9510206e1e",
   "metadata": {},
   "outputs": [
    {
     "data": {
      "text/html": [
       "<div>\n",
       "<style scoped>\n",
       "    .dataframe tbody tr th:only-of-type {\n",
       "        vertical-align: middle;\n",
       "    }\n",
       "\n",
       "    .dataframe tbody tr th {\n",
       "        vertical-align: top;\n",
       "    }\n",
       "\n",
       "    .dataframe thead th {\n",
       "        text-align: right;\n",
       "    }\n",
       "</style>\n",
       "<table border=\"1\" class=\"dataframe\">\n",
       "  <thead>\n",
       "    <tr style=\"text-align: right;\">\n",
       "      <th></th>\n",
       "      <th>Date</th>\n",
       "      <th>Open</th>\n",
       "      <th>High</th>\n",
       "      <th>Low</th>\n",
       "      <th>Close</th>\n",
       "      <th>Adj Close</th>\n",
       "      <th>Volume</th>\n",
       "      <th>month</th>\n",
       "      <th>day</th>\n",
       "    </tr>\n",
       "  </thead>\n",
       "  <tbody>\n",
       "    <tr>\n",
       "      <th>105</th>\n",
       "      <td>2001-02-01</td>\n",
       "      <td>266.299988</td>\n",
       "      <td>268.899994</td>\n",
       "      <td>266.299988</td>\n",
       "      <td>268.500000</td>\n",
       "      <td>268.500000</td>\n",
       "      <td>410</td>\n",
       "      <td>2001-02</td>\n",
       "      <td>2001-02-01</td>\n",
       "    </tr>\n",
       "    <tr>\n",
       "      <th>106</th>\n",
       "      <td>2001-02-02</td>\n",
       "      <td>268.000000</td>\n",
       "      <td>268.200012</td>\n",
       "      <td>266.500000</td>\n",
       "      <td>267.100006</td>\n",
       "      <td>267.100006</td>\n",
       "      <td>107</td>\n",
       "      <td>2001-02</td>\n",
       "      <td>2001-02-02</td>\n",
       "    </tr>\n",
       "    <tr>\n",
       "      <th>107</th>\n",
       "      <td>2001-02-05</td>\n",
       "      <td>265.100006</td>\n",
       "      <td>265.799988</td>\n",
       "      <td>265.100006</td>\n",
       "      <td>265.200012</td>\n",
       "      <td>265.200012</td>\n",
       "      <td>192</td>\n",
       "      <td>2001-02</td>\n",
       "      <td>2001-02-05</td>\n",
       "    </tr>\n",
       "    <tr>\n",
       "      <th>108</th>\n",
       "      <td>2001-02-06</td>\n",
       "      <td>263.899994</td>\n",
       "      <td>263.899994</td>\n",
       "      <td>261.799988</td>\n",
       "      <td>263.299988</td>\n",
       "      <td>263.299988</td>\n",
       "      <td>25</td>\n",
       "      <td>2001-02</td>\n",
       "      <td>2001-02-06</td>\n",
       "    </tr>\n",
       "    <tr>\n",
       "      <th>109</th>\n",
       "      <td>2001-02-07</td>\n",
       "      <td>262.799988</td>\n",
       "      <td>263.500000</td>\n",
       "      <td>262.399994</td>\n",
       "      <td>262.799988</td>\n",
       "      <td>262.799988</td>\n",
       "      <td>166</td>\n",
       "      <td>2001-02</td>\n",
       "      <td>2001-02-07</td>\n",
       "    </tr>\n",
       "    <tr>\n",
       "      <th>110</th>\n",
       "      <td>2001-02-08</td>\n",
       "      <td>263.500000</td>\n",
       "      <td>263.500000</td>\n",
       "      <td>259.799988</td>\n",
       "      <td>260.100006</td>\n",
       "      <td>260.100006</td>\n",
       "      <td>13</td>\n",
       "      <td>2001-02</td>\n",
       "      <td>2001-02-08</td>\n",
       "    </tr>\n",
       "    <tr>\n",
       "      <th>111</th>\n",
       "      <td>2001-02-09</td>\n",
       "      <td>260.500000</td>\n",
       "      <td>260.500000</td>\n",
       "      <td>259.000000</td>\n",
       "      <td>259.899994</td>\n",
       "      <td>259.899994</td>\n",
       "      <td>0</td>\n",
       "      <td>2001-02</td>\n",
       "      <td>2001-02-09</td>\n",
       "    </tr>\n",
       "    <tr>\n",
       "      <th>112</th>\n",
       "      <td>2001-02-12</td>\n",
       "      <td>262.500000</td>\n",
       "      <td>262.500000</td>\n",
       "      <td>260.100006</td>\n",
       "      <td>260.700012</td>\n",
       "      <td>260.700012</td>\n",
       "      <td>17</td>\n",
       "      <td>2001-02</td>\n",
       "      <td>2001-02-12</td>\n",
       "    </tr>\n",
       "    <tr>\n",
       "      <th>113</th>\n",
       "      <td>2001-02-13</td>\n",
       "      <td>261.000000</td>\n",
       "      <td>261.000000</td>\n",
       "      <td>261.000000</td>\n",
       "      <td>260.299988</td>\n",
       "      <td>260.299988</td>\n",
       "      <td>0</td>\n",
       "      <td>2001-02</td>\n",
       "      <td>2001-02-13</td>\n",
       "    </tr>\n",
       "    <tr>\n",
       "      <th>114</th>\n",
       "      <td>2001-02-14</td>\n",
       "      <td>260.000000</td>\n",
       "      <td>260.000000</td>\n",
       "      <td>259.399994</td>\n",
       "      <td>259.399994</td>\n",
       "      <td>259.399994</td>\n",
       "      <td>30</td>\n",
       "      <td>2001-02</td>\n",
       "      <td>2001-02-14</td>\n",
       "    </tr>\n",
       "    <tr>\n",
       "      <th>115</th>\n",
       "      <td>2001-02-15</td>\n",
       "      <td>259.500000</td>\n",
       "      <td>259.500000</td>\n",
       "      <td>255.100006</td>\n",
       "      <td>255.100006</td>\n",
       "      <td>255.100006</td>\n",
       "      <td>23</td>\n",
       "      <td>2001-02</td>\n",
       "      <td>2001-02-15</td>\n",
       "    </tr>\n",
       "    <tr>\n",
       "      <th>116</th>\n",
       "      <td>2001-02-16</td>\n",
       "      <td>255.000000</td>\n",
       "      <td>258.500000</td>\n",
       "      <td>255.000000</td>\n",
       "      <td>258.200012</td>\n",
       "      <td>258.200012</td>\n",
       "      <td>2</td>\n",
       "      <td>2001-02</td>\n",
       "      <td>2001-02-16</td>\n",
       "    </tr>\n",
       "    <tr>\n",
       "      <th>117</th>\n",
       "      <td>2001-02-20</td>\n",
       "      <td>256.100006</td>\n",
       "      <td>256.100006</td>\n",
       "      <td>255.000000</td>\n",
       "      <td>256.100006</td>\n",
       "      <td>256.100006</td>\n",
       "      <td>24</td>\n",
       "      <td>2001-02</td>\n",
       "      <td>2001-02-20</td>\n",
       "    </tr>\n",
       "    <tr>\n",
       "      <th>118</th>\n",
       "      <td>2001-02-21</td>\n",
       "      <td>256.700012</td>\n",
       "      <td>258.200012</td>\n",
       "      <td>256.600006</td>\n",
       "      <td>258.200012</td>\n",
       "      <td>258.200012</td>\n",
       "      <td>40</td>\n",
       "      <td>2001-02</td>\n",
       "      <td>2001-02-21</td>\n",
       "    </tr>\n",
       "    <tr>\n",
       "      <th>119</th>\n",
       "      <td>2001-02-22</td>\n",
       "      <td>258.500000</td>\n",
       "      <td>258.500000</td>\n",
       "      <td>257.500000</td>\n",
       "      <td>258.500000</td>\n",
       "      <td>258.500000</td>\n",
       "      <td>16</td>\n",
       "      <td>2001-02</td>\n",
       "      <td>2001-02-22</td>\n",
       "    </tr>\n",
       "    <tr>\n",
       "      <th>120</th>\n",
       "      <td>2001-02-23</td>\n",
       "      <td>260.000000</td>\n",
       "      <td>260.899994</td>\n",
       "      <td>259.600006</td>\n",
       "      <td>260.899994</td>\n",
       "      <td>260.899994</td>\n",
       "      <td>0</td>\n",
       "      <td>2001-02</td>\n",
       "      <td>2001-02-23</td>\n",
       "    </tr>\n",
       "    <tr>\n",
       "      <th>121</th>\n",
       "      <td>2001-02-26</td>\n",
       "      <td>262.000000</td>\n",
       "      <td>265.799988</td>\n",
       "      <td>261.500000</td>\n",
       "      <td>265.799988</td>\n",
       "      <td>265.799988</td>\n",
       "      <td>1</td>\n",
       "      <td>2001-02</td>\n",
       "      <td>2001-02-26</td>\n",
       "    </tr>\n",
       "    <tr>\n",
       "      <th>122</th>\n",
       "      <td>2001-02-27</td>\n",
       "      <td>267.000000</td>\n",
       "      <td>267.399994</td>\n",
       "      <td>267.000000</td>\n",
       "      <td>267.399994</td>\n",
       "      <td>267.399994</td>\n",
       "      <td>0</td>\n",
       "      <td>2001-02</td>\n",
       "      <td>2001-02-27</td>\n",
       "    </tr>\n",
       "    <tr>\n",
       "      <th>123</th>\n",
       "      <td>2001-02-28</td>\n",
       "      <td>266.799988</td>\n",
       "      <td>266.799988</td>\n",
       "      <td>266.799988</td>\n",
       "      <td>266.799988</td>\n",
       "      <td>266.799988</td>\n",
       "      <td>0</td>\n",
       "      <td>2001-02</td>\n",
       "      <td>2001-02-28</td>\n",
       "    </tr>\n",
       "  </tbody>\n",
       "</table>\n",
       "</div>"
      ],
      "text/plain": [
       "          Date        Open        High         Low       Close   Adj Close  \\\n",
       "105 2001-02-01  266.299988  268.899994  266.299988  268.500000  268.500000   \n",
       "106 2001-02-02  268.000000  268.200012  266.500000  267.100006  267.100006   \n",
       "107 2001-02-05  265.100006  265.799988  265.100006  265.200012  265.200012   \n",
       "108 2001-02-06  263.899994  263.899994  261.799988  263.299988  263.299988   \n",
       "109 2001-02-07  262.799988  263.500000  262.399994  262.799988  262.799988   \n",
       "110 2001-02-08  263.500000  263.500000  259.799988  260.100006  260.100006   \n",
       "111 2001-02-09  260.500000  260.500000  259.000000  259.899994  259.899994   \n",
       "112 2001-02-12  262.500000  262.500000  260.100006  260.700012  260.700012   \n",
       "113 2001-02-13  261.000000  261.000000  261.000000  260.299988  260.299988   \n",
       "114 2001-02-14  260.000000  260.000000  259.399994  259.399994  259.399994   \n",
       "115 2001-02-15  259.500000  259.500000  255.100006  255.100006  255.100006   \n",
       "116 2001-02-16  255.000000  258.500000  255.000000  258.200012  258.200012   \n",
       "117 2001-02-20  256.100006  256.100006  255.000000  256.100006  256.100006   \n",
       "118 2001-02-21  256.700012  258.200012  256.600006  258.200012  258.200012   \n",
       "119 2001-02-22  258.500000  258.500000  257.500000  258.500000  258.500000   \n",
       "120 2001-02-23  260.000000  260.899994  259.600006  260.899994  260.899994   \n",
       "121 2001-02-26  262.000000  265.799988  261.500000  265.799988  265.799988   \n",
       "122 2001-02-27  267.000000  267.399994  267.000000  267.399994  267.399994   \n",
       "123 2001-02-28  266.799988  266.799988  266.799988  266.799988  266.799988   \n",
       "\n",
       "     Volume    month         day  \n",
       "105     410  2001-02  2001-02-01  \n",
       "106     107  2001-02  2001-02-02  \n",
       "107     192  2001-02  2001-02-05  \n",
       "108      25  2001-02  2001-02-06  \n",
       "109     166  2001-02  2001-02-07  \n",
       "110      13  2001-02  2001-02-08  \n",
       "111       0  2001-02  2001-02-09  \n",
       "112      17  2001-02  2001-02-12  \n",
       "113       0  2001-02  2001-02-13  \n",
       "114      30  2001-02  2001-02-14  \n",
       "115      23  2001-02  2001-02-15  \n",
       "116       2  2001-02  2001-02-16  \n",
       "117      24  2001-02  2001-02-20  \n",
       "118      40  2001-02  2001-02-21  \n",
       "119      16  2001-02  2001-02-22  \n",
       "120       0  2001-02  2001-02-23  \n",
       "121       1  2001-02  2001-02-26  \n",
       "122       0  2001-02  2001-02-27  \n",
       "123       0  2001-02  2001-02-28  "
      ]
     },
     "execution_count": 26,
     "metadata": {},
     "output_type": "execute_result"
    }
   ],
   "source": [
    "df[df['month'] == '2001-2']"
   ]
  },
  {
   "cell_type": "code",
   "execution_count": 27,
   "id": "993cd21a-d72a-4667-bd1c-0c11abda17ee",
   "metadata": {},
   "outputs": [
    {
     "data": {
      "text/plain": [
       "Period('2000-12-01', 'D')"
      ]
     },
     "execution_count": 27,
     "metadata": {},
     "output_type": "execute_result"
    }
   ],
   "source": [
    "earliest_day_dict['2000-12']"
   ]
  },
  {
   "cell_type": "code",
   "execution_count": 28,
   "id": "e0298b9b-94c4-4894-8242-cba5f8d3aed6",
   "metadata": {},
   "outputs": [
    {
     "data": {
      "text/plain": [
       "268.70001220703125"
      ]
     },
     "execution_count": 28,
     "metadata": {},
     "output_type": "execute_result"
    }
   ],
   "source": [
    "df[df['day'] == earliest_day_dict['2000-12']]['Close'].values[0]"
   ]
  },
  {
   "cell_type": "code",
   "execution_count": 29,
   "id": "89b173ef-670a-4cc0-8c7f-7aa250c84d46",
   "metadata": {},
   "outputs": [],
   "source": [
    "# it works!"
   ]
  },
  {
   "cell_type": "code",
   "execution_count": 30,
   "id": "f4de04ad-36d0-4a93-8d43-debc4e451c80",
   "metadata": {},
   "outputs": [],
   "source": [
    "temp_dates = []\n",
    "\n",
    "start = '2000-12'\n",
    "end = '2010-12'\n",
    "\n",
    "for key in earliest_day_dict.keys():\n",
    "    if key >= start and key <= end:\n",
    "        temp_dates.append(key)"
   ]
  },
  {
   "cell_type": "code",
   "execution_count": 31,
   "id": "31749dba-5105-4e82-bbfa-81f96c9417b7",
   "metadata": {},
   "outputs": [
    {
     "data": {
      "text/plain": [
       "('2000-12', '2010-12')"
      ]
     },
     "execution_count": 31,
     "metadata": {},
     "output_type": "execute_result"
    }
   ],
   "source": [
    "temp_dates[0],temp_dates[-1]"
   ]
  },
  {
   "cell_type": "code",
   "execution_count": 32,
   "id": "e40382ff-c62c-4e14-89f8-bca7df8628ed",
   "metadata": {},
   "outputs": [],
   "source": [
    "oz_price_store = []\n",
    "\n",
    "for date in temp_dates:\n",
    "    oz_price_store.append(df[df['day'] == earliest_day_dict[date]]['Close'].values[0])"
   ]
  },
  {
   "cell_type": "code",
   "execution_count": 33,
   "id": "48550038-89cd-4e64-83bc-64b577c162a3",
   "metadata": {},
   "outputs": [
    {
     "data": {
      "text/plain": [
       "[268.70001220703125,\n",
       " 268.3999938964844,\n",
       " 268.5,\n",
       " 265.20001220703125,\n",
       " 255.60000610351562]"
      ]
     },
     "execution_count": 33,
     "metadata": {},
     "output_type": "execute_result"
    }
   ],
   "source": [
    "oz_price_store[:5]"
   ]
  },
  {
   "cell_type": "code",
   "execution_count": 34,
   "id": "3daa881d-bb85-435d-9e5b-dc49149e38a2",
   "metadata": {},
   "outputs": [
    {
     "data": {
      "text/plain": [
       "(121, 121)"
      ]
     },
     "execution_count": 34,
     "metadata": {},
     "output_type": "execute_result"
    }
   ],
   "source": [
    "len(temp_dates),len(oz_price_store)"
   ]
  },
  {
   "cell_type": "code",
   "execution_count": 35,
   "id": "6b5d5446-2e29-41a2-a0ae-4db80c17cbef",
   "metadata": {},
   "outputs": [],
   "source": [
    "def repeated_investment(x,length):\n",
    "    investments = list(np.zeros(length))\n",
    "    investments = [x for i in investments]\n",
    "    return investments"
   ]
  },
  {
   "cell_type": "code",
   "execution_count": 36,
   "id": "4d1f313c-08ff-42a1-a7cb-8313339eb4c6",
   "metadata": {},
   "outputs": [
    {
     "data": {
      "text/plain": [
       "[250, 250, 250, 250, 250]"
      ]
     },
     "execution_count": 36,
     "metadata": {},
     "output_type": "execute_result"
    }
   ],
   "source": [
    "repeated_investment(250,len(temp_dates))[:5]"
   ]
  },
  {
   "cell_type": "code",
   "execution_count": 37,
   "id": "86832e1c-87a3-493c-a383-0dfa3d071638",
   "metadata": {},
   "outputs": [],
   "source": [
    "investment_history = repeated_investment(250,len(temp_dates))"
   ]
  },
  {
   "cell_type": "code",
   "execution_count": 38,
   "id": "38527d1a-d8d2-4cd7-af8a-4b687e431ef5",
   "metadata": {},
   "outputs": [],
   "source": [
    "num_ozs = []\n",
    "for idx,price in enumerate(oz_price_store):\n",
    "    num_ozs.append(investment_history[idx]/price)"
   ]
  },
  {
   "cell_type": "code",
   "execution_count": 39,
   "id": "c5910565-8416-4002-a5e3-90323cd01f33",
   "metadata": {},
   "outputs": [
    {
     "data": {
      "text/plain": [
       "121"
      ]
     },
     "execution_count": 39,
     "metadata": {},
     "output_type": "execute_result"
    }
   ],
   "source": [
    "# check length\n",
    "\n",
    "len(num_ozs)"
   ]
  },
  {
   "cell_type": "code",
   "execution_count": 40,
   "id": "8f0fa986-bf70-4c60-831d-02915da46641",
   "metadata": {},
   "outputs": [
    {
     "data": {
      "text/plain": [
       "[0.9304056145981004,\n",
       " 0.9314456247581704,\n",
       " 0.931098696461825,\n",
       " 0.9426847228228437,\n",
       " 0.978090743467167]"
      ]
     },
     "execution_count": 40,
     "metadata": {},
     "output_type": "execute_result"
    }
   ],
   "source": [
    "num_ozs[:5]"
   ]
  },
  {
   "cell_type": "code",
   "execution_count": 41,
   "id": "0318ca03-dedd-414b-a70b-20102745e297",
   "metadata": {},
   "outputs": [
    {
     "data": {
      "text/plain": [
       "86946.51644980437"
      ]
     },
     "execution_count": 41,
     "metadata": {},
     "output_type": "execute_result"
    }
   ],
   "source": [
    "# so to get the total value of your investment\n",
    "# just add up the oz's and mutliply by the end date\n",
    "sum(num_ozs)*df[df['day'] == earliest_day_dict[end]]['Close'].values[0]"
   ]
  },
  {
   "cell_type": "code",
   "execution_count": 42,
   "id": "f66915dd-6d64-4441-8727-981d4ae42057",
   "metadata": {},
   "outputs": [
    {
     "data": {
      "text/plain": [
       "30250"
      ]
     },
     "execution_count": 42,
     "metadata": {},
     "output_type": "execute_result"
    }
   ],
   "source": [
    "# amount invested?\n",
    "sum(investment_history)"
   ]
  },
  {
   "cell_type": "code",
   "execution_count": 43,
   "id": "c658525b-2526-42ca-aa0e-97b25f67f459",
   "metadata": {},
   "outputs": [
    {
     "data": {
      "text/plain": [
       "187.42650066051033"
      ]
     },
     "execution_count": 43,
     "metadata": {},
     "output_type": "execute_result"
    }
   ],
   "source": [
    "# return in %\n",
    "(sum(num_ozs)*df[df['day'] == earliest_day_dict[end]]['Close'].values[0]/sum(investment_history)-1)*100"
   ]
  },
  {
   "cell_type": "code",
   "execution_count": 44,
   "id": "7726f576-81be-4c41-ba39-5726c6773f2e",
   "metadata": {},
   "outputs": [
    {
     "data": {
      "text/plain": [
       "10"
      ]
     },
     "execution_count": 44,
     "metadata": {},
     "output_type": "execute_result"
    }
   ],
   "source": [
    "# number of years \n",
    "\n",
    "int(len(temp_dates)/12)"
   ]
  },
  {
   "cell_type": "code",
   "execution_count": 45,
   "id": "c557eedf-8a3c-42d7-bc9f-aff378a832fc",
   "metadata": {},
   "outputs": [],
   "source": [
    "def whatif_calculator(start,end,invest_amount):\n",
    "    \n",
    "    '''this calculator works out for a given start month and end month\n",
    "        and a given monthly investment aount, how much you would have \n",
    "        at the end of the period, taking into account all the fluctuations\n",
    "        at the start of the month'''\n",
    "    \n",
    "    temp_dates = []\n",
    "\n",
    "    for key in earliest_day_dict.keys():\n",
    "        if key >= start and key <= end:\n",
    "            temp_dates.append(key)\n",
    "            \n",
    "    oz_price_store = []\n",
    "\n",
    "    for date in temp_dates:\n",
    "        oz_price_store.append(df[df['day'] == earliest_day_dict[date]]['Close'].values[0])\n",
    "        \n",
    "    investment_history = repeated_investment(invest_amount,len(temp_dates))\n",
    "    \n",
    "    num_ozs = []\n",
    "    \n",
    "    for idx,price in enumerate(oz_price_store):\n",
    "        num_ozs.append(investment_history[idx]/price)\n",
    "        \n",
    "    # so to get the total value of your investment\n",
    "    # just add up the oz's and mutliply by the end date\n",
    "    end_value = sum(num_ozs)*df[df['day'] == earliest_day_dict[end]]['Close'].values[0]\n",
    "    \n",
    "    # original investment\n",
    "    original_investment = sum(investment_history)\n",
    "    \n",
    "    annual_return = (end_value/original_investment)**(1/int(len(temp_dates)/12))-1\n",
    "    overall_return = ((end_value/original_investment)-1)*100\n",
    "    \n",
    "    print(\"Original Investment : %2d, Latest Value : %5.2f\" % (original_investment, end_value))\n",
    "    print(\"Effective annual return: %5.2f, Overall return : %5.2f\" % (annual_return*100,overall_return))"
   ]
  },
  {
   "cell_type": "code",
   "execution_count": 56,
   "id": "596bbd61-8b12-499d-9c2d-e55043ef7790",
   "metadata": {},
   "outputs": [
    {
     "name": "stdout",
     "output_type": "stream",
     "text": [
      "Original Investment : 36300, Latest Value : 47023.99\n",
      "Effective annual return:  2.62, Overall return : 29.54\n"
     ]
    }
   ],
   "source": [
    "whatif_calculator(start,end,300)"
   ]
  },
  {
   "cell_type": "code",
   "execution_count": 58,
   "id": "87abc5f4-7038-4f11-8284-0ffc603d68c8",
   "metadata": {},
   "outputs": [
    {
     "name": "stdout",
     "output_type": "stream",
     "text": [
      "Original Investment : 60250, Latest Value : 133791.59\n",
      "Effective annual return:  4.07, Overall return : 122.06\n"
     ]
    }
   ],
   "source": [
    "start = '2002-01'\n",
    "end = '2022-01'\n",
    "whatif_calculator(start,end,250)"
   ]
  },
  {
   "cell_type": "code",
   "execution_count": null,
   "id": "0af32cae-8c5c-4e05-8285-bed4b40d8528",
   "metadata": {},
   "outputs": [],
   "source": [
    "# anualized return"
   ]
  }
 ],
 "metadata": {
  "kernelspec": {
   "display_name": "Python 3 (ipykernel)",
   "language": "python",
   "name": "python3"
  },
  "language_info": {
   "codemirror_mode": {
    "name": "ipython",
    "version": 3
   },
   "file_extension": ".py",
   "mimetype": "text/x-python",
   "name": "python",
   "nbconvert_exporter": "python",
   "pygments_lexer": "ipython3",
   "version": "3.9.12"
  }
 },
 "nbformat": 4,
 "nbformat_minor": 5
}
